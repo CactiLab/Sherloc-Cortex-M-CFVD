{
 "cells": [
  {
   "cell_type": "markdown",
   "metadata": {},
   "source": [
    "This file is to provide some helper functions.\n",
    "- `find_hw_reset_port` will send a signal to the board to hardware reset the board.\n",
    "- `find _sw_reset_port` will send a signal to the board to software reset the board.\n",
    "- `build_sherloc` calls keil compiler to build sherloc.\n",
    "- `refresh_IBT` will insert the address you provide to the *.bin file."
   ]
  },
  {
   "cell_type": "code",
   "execution_count": 4,
   "metadata": {},
   "outputs": [],
   "source": [
    "import serial\n",
    "import time\n",
    "\n",
    "hw_reset_port = ???\n",
    "# example: hw_reset_port = \"COM16\"\n",
    "\n",
    "def find_hw_reset_port():\n",
    "    RestPort = serial.Serial(hw_reset_port, 115200)\n",
    "    buffer = bytearray()\n",
    "    tic = time.time()\n",
    "    RestPort.write(b\"\\x00\")\n",
    "    RestPort.close()\n",
    "\n",
    "find_hw_reset_port()"
   ]
  },
  {
   "cell_type": "code",
   "execution_count": 3,
   "metadata": {},
   "outputs": [],
   "source": [
    "import serial\n",
    "import time\n",
    "\n",
    "sw_reset_port = ???\n",
    "# example: sw_reset_port = \"COM6\"\n",
    "\n",
    "def find_sw_rest_port():\n",
    "    OnPort = serial.Serial(sw_reset_port, 115200)\n",
    "    buffer = bytearray()\n",
    "    tic = time.time()\n",
    "    OnPort.write(b\"\\x00\")\n",
    "    OnPort.close()\n",
    "\n",
    "find_sw_rest_port()"
   ]
  },
  {
   "cell_type": "code",
   "execution_count": null,
   "metadata": {},
   "outputs": [],
   "source": [
    "# compile the secure project\n",
    "import subprocess\n",
    "\n",
    "def build_sherloc(): \n",
    "    build_cmd = \"C:/Keil_v5/UV4/UV4.exe -j4 -b ../../Example/Sherloc_FreeRTOS_MPU_S_NS/Sherloc_s/Sherloc_s.uvprojx -o TeeCI_s_build.log\"\n",
    "    process = subprocess.Popen(build_cmd, shell=True, stdout=subprocess.PIPE)\n",
    "    process.wait()\n",
    "    print(\"build process return code: \", process.returncode)\n",
    "\n",
    "build_sherloc()"
   ]
  },
  {
   "cell_type": "code",
   "execution_count": null,
   "metadata": {},
   "outputs": [],
   "source": [
    "# update IBT manually\n",
    "from eval import *\n",
    "\n",
    "new_IBT_entry = ???\n",
    "# example: new_IBT_entry = b'0x086a0cf0'\n",
    "\n",
    "def refresh_IBT():\n",
    "    MetaDataRefresh(\"../../Example/out/eval/Oz/eval_log/eval.log\",\"../../Example/out/eval/Oz/metadata/whetstone.bin\", new_IBT_entry).refresh_run()\n",
    "\n",
    "refresh_IBT()"
   ]
  }
 ],
 "metadata": {
  "kernelspec": {
   "display_name": "Python 3",
   "language": "python",
   "name": "python3"
  },
  "language_info": {
   "codemirror_mode": {
    "name": "ipython",
    "version": 3
   },
   "file_extension": ".py",
   "mimetype": "text/x-python",
   "name": "python",
   "nbconvert_exporter": "python",
   "pygments_lexer": "ipython3",
   "version": "3.11.0"
  },
  "orig_nbformat": 4,
  "vscode": {
   "interpreter": {
    "hash": "a2f8664900901e0727364fdc43f8e4bde2fc00ac5e33513f5419cb5027d6eb32"
   }
  }
 },
 "nbformat": 4,
 "nbformat_minor": 2
}
